{
 "cells": [
  {
   "cell_type": "code",
   "execution_count": 1,
   "metadata": {},
   "outputs": [],
   "source": [
    "import torch\n",
    "import numpy as np\n",
    "\n",
    "from matplotlib import pyplot as plt\n",
    "import seaborn as sns\n",
    "\n",
    "sns.set()\n",
    "torch.set_printoptions(sci_mode = False)"
   ]
  },
  {
   "cell_type": "code",
   "execution_count": 2,
   "metadata": {},
   "outputs": [],
   "source": [
    "def ReweightFeatures(features, weight):\n",
    "    \n",
    "    '''\n",
    "    Reweights features accroading to weight.\n",
    "    features: [N_batches (Nb), dim]\n",
    "    weight:   [dim,]\n",
    "    '''\n",
    "    \n",
    "    # Apply weight sign and sort features and abs weights\n",
    "    features_signed = features * (torch.sign(weights))\n",
    "    features_sorted, features_order = torch.sort(features_signed)\n",
    "    weights_sorted = torch.abs(weights)[features_order] # => [Nb, dim]\n",
    "    \n",
    "    # Collect prefix-sum of weight vectors, with an appended zero in front\n",
    "    weights_cumsum = torch.cumsum(torch.abs(weights_sorted), dim = 1)\n",
    "    weights_cumsum = torch.cat(\n",
    "        [\n",
    "            torch.zeros((weights_cumsum.shape[0], 1), device = weights_cumsum.device), \n",
    "            weights_cumsum\n",
    "        ],\n",
    "        dim = 1\n",
    "    )\n",
    "    \n",
    "    # Create uniform-sampled points for reweighting\n",
    "    weights_total = weights_cumsum[:, -1]\n",
    "    uniformed = torch.linspace(start = 0, end = weights_total[0], device = weights.device, steps = weights.shape[0])#.unsqueeze(0) * weights_total.unsqueeze(1)\n",
    "    uniformed = uniformed.unsqueeze(0).repeat(weights_cumsum.shape[0], 1)\n",
    "\n",
    "    # Perform binary search to find interpolation ends\n",
    "    searched_results = torch.searchsorted(weights_cumsum, uniformed)\n",
    "    searched_results[:, 0] = 1 # Remove first 0's \n",
    "    \n",
    "    # Linear interpolation: starts[ <------------ interp --> ] ends\n",
    "    starts = torch.gather(features_sorted, -1, searched_results - 1)\n",
    "    ends = torch.gather(features_sorted, -1, torch.minimum(searched_results, torch.ones((1,), dtype = torch.long, device = features_sorted.device) * (features_sorted.shape[-1] - 1)))\n",
    "\n",
    "    # Linear interpolation: obtain interp from both weight ends\n",
    "    weights_s = torch.gather(weights_cumsum, -1, searched_results - 1)\n",
    "    weights_e = torch.gather(weights_cumsum, -1, searched_results)\n",
    "    interp = (uniformed - weights_s) / (weights_e - weights_s)\n",
    "    \n",
    "    # Do the interpolation\n",
    "    result = starts + (ends - starts) * interp\n",
    "    return result"
   ]
  },
  {
   "cell_type": "code",
   "execution_count": 3,
   "metadata": {},
   "outputs": [],
   "source": [
    "features = torch.normal(mean = torch.zeros(2, 1024)).cuda()\n",
    "# weights = torch.normal(mean = torch.zeros(1024,))\n",
    "weights = torch.linspace(-1, 10, steps = 1024).cuda()\n",
    "\n",
    "weights[0] = 1000"
   ]
  },
  {
   "cell_type": "code",
   "execution_count": 4,
   "metadata": {},
   "outputs": [
    {
     "data": {
      "text/plain": [
       "<AxesSubplot:ylabel='Count'>"
      ]
     },
     "execution_count": 4,
     "metadata": {},
     "output_type": "execute_result"
    },
    {
     "data": {
      "image/png": "[encoded data removed]",
      "text/plain": [
       "<Figure size 432x288 with 1 Axes>"
      ]
     },
     "metadata": {},
     "output_type": "display_data"
    }
   ],
   "source": [
    "sns.histplot(features[0].cpu().numpy(), kde = True)"
   ]
  },
  {
   "cell_type": "code",
   "execution_count": 5,
   "metadata": {},
   "outputs": [],
   "source": [
    "rf = ReweightFeatures(features, weights)"
   ]
  },
  {
   "cell_type": "code",
   "execution_count": 6,
   "metadata": {},
   "outputs": [
    {
     "data": {
      "text/plain": [
       "<AxesSubplot:ylabel='Count'>"
      ]
     },
     "execution_count": 6,
     "metadata": {},
     "output_type": "execute_result"
    },
    {
     "data": {
      "image/png": "[encoded data removed]",
      "text/plain": [
       "<Figure size 432x288 with 1 Axes>"
      ]
     },
     "metadata": {},
     "output_type": "display_data"
    }
   ],
   "source": [
    "sns.histplot(rf[0].cpu().numpy(), kde = True)"
   ]
  },
  {
   "cell_type": "code",
   "execution_count": 7,
   "metadata": {},
   "outputs": [],
   "source": [
    "# features_signed = features * (torch.sign(weights))\n",
    "# features_sorted, features_order = torch.sort(features_signed)\n",
    "\n",
    "# print(features_sorted)\n",
    "# print(features_order)\n",
    "\n",
    "# weights_sorted = torch.abs(weights)[features_order]\n",
    "\n",
    "# print(weights_sorted)"
   ]
  },
  {
   "cell_type": "code",
   "execution_count": 8,
   "metadata": {},
   "outputs": [],
   "source": [
    "# weights_cumsum = torch.cumsum(torch.abs(weights_sorted), dim = 1)\n",
    "# weights_cumsum = torch.cat(\n",
    "#     [\n",
    "#         torch.zeros((weights_cumsum.shape[0], 1), device = weights_cumsum.device), \n",
    "#         weights_cumsum\n",
    "#     ],\n",
    "#     dim = 1\n",
    "# )\n",
    "# print(weights_cumsum)"
   ]
  },
  {
   "cell_type": "code",
   "execution_count": 9,
   "metadata": {},
   "outputs": [],
   "source": [
    "# weights_total = weights_cumsum[:, -1]\n",
    "# uniformed = torch.linspace(start = 0, end = weights_total[0], steps = weights.shape[0])#.unsqueeze(0) * weights_total.unsqueeze(1)\n",
    "# uniformed = uniformed.unsqueeze(0).repeat(weights_cumsum.shape[0], 1)\n",
    "# print(uniformed)"
   ]
  },
  {
   "cell_type": "code",
   "execution_count": 10,
   "metadata": {},
   "outputs": [],
   "source": [
    "# plt.figure(figsize = (14, 8))\n",
    "# for i in range(len(features_sorted)):\n",
    "#     sns.lineplot(x = features_sorted[i], y = uniformed[i])\n",
    "# plt.show()"
   ]
  },
  {
   "cell_type": "code",
   "execution_count": 11,
   "metadata": {},
   "outputs": [],
   "source": [
    "# searched_results = torch.searchsorted(weights_cumsum, uniformed)\n",
    "# # Remove first 0's\n",
    "# searched_results[:, 0] = 1\n",
    "# print(searched_results)"
   ]
  },
  {
   "cell_type": "code",
   "execution_count": 12,
   "metadata": {},
   "outputs": [],
   "source": [
    "# # Linear interpolation\n",
    "# starts = torch.gather(features_sorted, -1, searched_results - 1)\n",
    "# ends = torch.gather(features_sorted, -1, torch.minimum(searched_results, torch.LongTensor([features_sorted.shape[-1] - 1], device = features_sorted.device)))\n",
    "\n",
    "# weights_s = torch.gather(weights_cumsum, -1, searched_results - 1)\n",
    "# weights_e = torch.gather(weights_cumsum, -1, searched_results)\n",
    "# interp = (uniformed - weights_s) / (weights_e - weights_s)\n",
    "\n",
    "# print(starts)\n",
    "# print(ends)\n",
    "# print(interp)"
   ]
  },
  {
   "cell_type": "code",
   "execution_count": 13,
   "metadata": {},
   "outputs": [],
   "source": [
    "# # Linear interpolation; cont'd\n",
    "# result = starts + (ends - starts) * interp\n",
    "# print(result)\n",
    "\n",
    "# plt.figure(figsize = (14, 8))\n",
    "# for i in range(len(result)):\n",
    "#     sns.lineplot(x = result[i], y = uniformed[i])\n",
    "# plt.show()"
   ]
  },
  {
   "cell_type": "code",
   "execution_count": null,
   "metadata": {},
   "outputs": [],
   "source": []
  }
 ],
 "metadata": {
  "kernelspec": {
   "display_name": "firstEnv",
   "language": "python",
   "name": "firstenv"
  },
  "language_info": {
   "codemirror_mode": {
    "name": "ipython",
    "version": 3
   },
   "file_extension": ".py",
   "mimetype": "text/x-python",
   "name": "python",
   "nbconvert_exporter": "python",
   "pygments_lexer": "ipython3",
   "version": "3.7.10"
  }
 },
 "nbformat": 4,
 "nbformat_minor": 5
}
