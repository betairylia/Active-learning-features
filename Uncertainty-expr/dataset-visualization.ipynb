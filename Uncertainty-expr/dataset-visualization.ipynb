{
 "cells": [
  {
   "cell_type": "markdown",
   "metadata": {},
   "source": [
    "## Dataset contamination visualization"
   ]
  },
  {
   "cell_type": "code",
   "execution_count": 1,
   "metadata": {},
   "outputs": [
    {
     "name": "stdout",
     "output_type": "stream",
     "text": [
      "['/workspace/Shared/RP_ML/Active-learning-features/ToyExperiments/Dropout', '/opt/conda/envs/torch/lib/python37.zip', '/opt/conda/envs/torch/lib/python3.7', '/opt/conda/envs/torch/lib/python3.7/lib-dynload', '', '/opt/conda/envs/torch/lib/python3.7/site-packages', '/opt/conda/envs/torch/lib/python3.7/site-packages/IPython/extensions', '/root/.ipython', '/workspace/Shared/RP_ML/Active-learning-features/Uncertainty-expr']\n"
     ]
    }
   ],
   "source": [
    "import sys\n",
    "sys.path.append(\"/workspace/Shared/RP_ML/Active-learning-features/Uncertainty-expr\")\n",
    "print(sys.path)\n",
    "\n",
    "from data_uncertainty import MNIST_UncertaintyDM, CIFAR10_UncertaintyDM\n",
    "from PIL import Image\n",
    "from matplotlib import pyplot"
   ]
  },
  {
   "cell_type": "code",
   "execution_count": 2,
   "metadata": {},
   "outputs": [],
   "source": [
    "main_dm = MNIST_UncertaintyDM(data_dir = \"./data\", batch_size = 128, num_workers = 0, do_partial_train = False, do_contamination = True)\n",
    "main_dm.setup()"
   ]
  },
  {
   "cell_type": "code",
   "execution_count": 3,
   "metadata": {},
   "outputs": [],
   "source": [
    "val_dl = main_dm.val_dataloader()"
   ]
  },
  {
   "cell_type": "code",
   "execution_count": 4,
   "metadata": {},
   "outputs": [],
   "source": [
    "def get_all_data(dl):\n",
    "    batches = []\n",
    "    for batch in dl:\n",
    "        batches.append(batch)\n",
    "    return batches"
   ]
  },
  {
   "cell_type": "code",
   "execution_count": 5,
   "metadata": {},
   "outputs": [],
   "source": [
    "all_val = get_all_data(val_dl)"
   ]
  },
  {
   "cell_type": "code",
   "execution_count": 6,
   "metadata": {},
   "outputs": [
    {
     "data": {
      "text/plain": [
       "<matplotlib.colorbar.Colorbar at 0x7f176c299a90>"
      ]
     },
     "execution_count": 6,
     "metadata": {},
     "output_type": "execute_result"
    },
    {
     "data": {
      "image/png": "[encoded data removed]",
      "text/plain": [
       "<Figure size 432x288 with 2 Axes>"
      ]
     },
     "metadata": {
      "needs_background": "light"
     },
     "output_type": "display_data"
    }
   ],
   "source": [
    "cbar = pyplot.imshow(all_val[0][0][0].numpy()[0, :, :])\n",
    "pyplot.colorbar(cbar)"
   ]
  },
  {
   "cell_type": "code",
   "execution_count": 7,
   "metadata": {},
   "outputs": [
    {
     "data": {
      "text/plain": [
       "<matplotlib.colorbar.Colorbar at 0x7f17517a7050>"
      ]
     },
     "execution_count": 7,
     "metadata": {},
     "output_type": "execute_result"
    },
    {
     "data": {
      "image/png": "[encoded data removed]",
      "text/plain": [
       "<Figure size 432x288 with 2 Axes>"
      ]
     },
     "metadata": {
      "needs_background": "light"
     },
     "output_type": "display_data"
    }
   ],
   "source": [
    "cbar = pyplot.imshow(all_val[102][0][0].numpy()[0, :, :])\n",
    "pyplot.colorbar(cbar)"
   ]
  },
  {
   "cell_type": "code",
   "execution_count": 29,
   "metadata": {},
   "outputs": [],
   "source": [
    "import torchvision.transforms as transforms\n",
    "a = transforms.Compose([\n",
    "    transforms.ToPILImage(),\n",
    "    transforms.GaussianBlur(kernel_size = 5, sigma = 1.5),\n",
    "    transforms.ToTensor(),\n",
    "    # AddGaussianNoise(0., 1.),\n",
    "])"
   ]
  },
  {
   "cell_type": "code",
   "execution_count": 31,
   "metadata": {},
   "outputs": [
    {
     "data": {
      "text/plain": [
       "[ToPILImage(), GaussianBlur(kernel_size=(5, 5), sigma=(1.5, 1.5)), ToTensor()]"
      ]
     },
     "execution_count": 31,
     "metadata": {},
     "output_type": "execute_result"
    }
   ],
   "source": [
    "a.transforms"
   ]
  }
 ],
 "metadata": {
  "kernelspec": {
   "display_name": "firstEnv",
   "language": "python",
   "name": "firstenv"
  },
  "language_info": {
   "codemirror_mode": {
    "name": "ipython",
    "version": 3
   },
   "file_extension": ".py",
   "mimetype": "text/x-python",
   "name": "python",
   "nbconvert_exporter": "python",
   "pygments_lexer": "ipython3",
   "version": "3.7.10"
  }
 },
 "nbformat": 4,
 "nbformat_minor": 4
}
